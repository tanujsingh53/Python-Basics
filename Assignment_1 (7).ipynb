{
  "nbformat": 4,
  "nbformat_minor": 0,
  "metadata": {
    "colab": {
      "provenance": []
    },
    "kernelspec": {
      "name": "python3",
      "display_name": "Python 3"
    },
    "language_info": {
      "name": "python"
    }
  },
  "cells": [
    {
      "cell_type": "markdown",
      "source": [
        "**Question 1: **\n",
        "What is Python, and why is it popular?\n",
        "\n",
        "  - Python is a simple and easy-to-understand language, like reading simple English. Its pseudo-code nature makes it easy to learn and understand by beginners.\n",
        "  \n",
        "  - Key Features of Python\n",
        "    1.** Simple and Readable Syntax**\n",
        "        *   Python code is clean and easy to understand, making it ideal for beginners.\n",
        "        *   It uses indentation to define blocks of code, promoting readable formatting.\n"
      ],
      "metadata": {
        "id": "9A4twL_uww1F"
      }
    },
    {
      "cell_type": "code",
      "source": [
        "print(\"Hello, World!\")"
      ],
      "metadata": {
        "colab": {
          "base_uri": "https://localhost:8080/"
        },
        "id": "-Lo4uP8dOAq4",
        "outputId": "f7e6ceb8-13bc-44c9-a82f-ec761f3b1390"
      },
      "execution_count": null,
      "outputs": [
        {
          "output_type": "stream",
          "name": "stdout",
          "text": [
            "Hello, World!\n"
          ]
        }
      ]
    },
    {
      "cell_type": "markdown",
      "source": [
        "    2. **Interpreted Language**\n",
        "        *   Python doesn't need to be compiled before running.\n",
        "        *   Code is executed line by line, which helps with debugging and   testing.\n",
        "\n",
        "    3. **Dynamically Typed**\n",
        "        *   You don’t need to declare variable types.\n",
        "        *   Python determines the type of variable at runtime, which speeds up coding.\n",
        "\n",
        "\n",
        "    4. **High-Level Language**\n",
        "        *   Abstracts many low-level details (like memory management), allowing developers to focus on logic and design.\n",
        "\n",
        "    5. **Extensive Standard Library**\n",
        "         *   Comes with a vast library of built-in modules and functions (like math, datetime, os, etc.) to handle common tasks.\n"
      ],
      "metadata": {
        "id": "TlbEkWI6N3VF"
      }
    },
    {
      "cell_type": "code",
      "source": [
        "import math\n",
        "print(math.sqrt(16))"
      ],
      "metadata": {
        "colab": {
          "base_uri": "https://localhost:8080/"
        },
        "id": "v5kIrvsG4Ku4",
        "outputId": "a8f0a630-67e5-4aea-dd60-bb562dfc1e32"
      },
      "execution_count": null,
      "outputs": [
        {
          "output_type": "stream",
          "name": "stdout",
          "text": [
            "4.0\n"
          ]
        }
      ]
    },
    {
      "cell_type": "markdown",
      "source": [
        "6.  **Large Ecosystem of Third-Party Libraries**\n",
        "         *   Libraries for everything from data science (pandas, numpy, matplotlib), web development (Django, Flask), to automation (selenium, requests).\n",
        "\n",
        "    7. **Object-Oriented and Functional**\n",
        "         *   Supports multiple programming paradigms: object-oriented, procedural, and functional programming.\n",
        "\n",
        "    8. **Cross-Platform Compatibility**\n",
        "         *   Python code can run on Windows, macOS, and Linux with little or no modification.\n",
        "\n",
        "    9. **Community Support**\n",
        "         *   Massive and active global community means plenty of tutorials, forums, and resources.\n",
        "    \n",
        "    10. **Used in Diverse Fields**\n",
        "         *   Massive and active global community means plenty of tutorials, forums, and resources.\n"
      ],
      "metadata": {
        "id": "Z0K49M4y3-1x"
      }
    },
    {
      "cell_type": "markdown",
      "source": [
        "**Question 2**\n",
        "What is an interpreter in Python?\n",
        "- An interpreter is a program that reads and executes code line by line. In the case of Python, it translates Python code into machine code (that your computer understands) one line at a time.\n",
        "\n",
        "- When you run a Python file (.py), the Python interpreter does the following:\n",
        "\n",
        "Reads your code\n",
        "\n",
        "Converts each line into an intermediate form (called bytecode)\n",
        "\n",
        "Executes the bytecode using the Python Virtual Machine (PVM)\n"
      ],
      "metadata": {
        "id": "kk41SnuVaipO"
      }
    },
    {
      "cell_type": "markdown",
      "source": [
        "**Question 3**\n",
        "What are pre-defined keywords in Python?\n",
        "\n",
        "  - Predefined keywords in Python are reserved words that have special meaning and cannot be used as identifiers (like variable names, function names, etc.). These keywords define the syntax and structure of the Python language.\n",
        "\n",
        "  - They help in:\n",
        "\n",
        "\n",
        "*   Controlling the flow of a program (e.g., if, else, while)\n",
        "*   Declaring variables and functions (e.g., def, class)\n",
        "*   Handling exceptions (e.g., try, except)\n",
        "*   Defining values or constants (e.g., True, False, None)\n",
        "\n",
        "Examples of Common Python Keywords & Their Usage:\n",
        "1. if, elif, else – Conditional Statements"
      ],
      "metadata": {
        "id": "jssZGfJhOc3Q"
      }
    },
    {
      "cell_type": "code",
      "source": [
        "light=input(\"light color : \")\n",
        "if(light == \"red\"):\n",
        "    print(\"stop\")\n",
        "elif(light == \"yellow\"):\n",
        "    print(\"look\")\n",
        "elif(light == \"green\"):\n",
        "    print(\"go\")\n",
        "else:\n",
        "    print(\"light is broken\")"
      ],
      "metadata": {
        "colab": {
          "base_uri": "https://localhost:8080/"
        },
        "id": "_V4hWY1IQfMA",
        "outputId": "610ae802-f419-4aa9-e4f2-f4cf3d677efe"
      },
      "execution_count": null,
      "outputs": [
        {
          "output_type": "stream",
          "name": "stdout",
          "text": [
            "light color : red\n",
            "stop\n"
          ]
        }
      ]
    },
    {
      "cell_type": "markdown",
      "source": [
        "  2. for, in – Looping Over Items"
      ],
      "metadata": {
        "id": "NPar89tsRIyX"
      }
    },
    {
      "cell_type": "code",
      "source": [
        "for i in range(1, 6):\n",
        "     print(i)"
      ],
      "metadata": {
        "colab": {
          "base_uri": "https://localhost:8080/"
        },
        "collapsed": true,
        "id": "6hLLtpaRRIbe",
        "outputId": "ee9ce611-2c7a-4382-af3c-cf8cd37aaf3b"
      },
      "execution_count": null,
      "outputs": [
        {
          "output_type": "stream",
          "name": "stdout",
          "text": [
            "1\n",
            "2\n",
            "3\n",
            "4\n",
            "5\n"
          ]
        }
      ]
    },
    {
      "cell_type": "markdown",
      "source": [
        "  3. def, return – Defining Functions"
      ],
      "metadata": {
        "id": "oJ08_ifgRjsm"
      }
    },
    {
      "cell_type": "code",
      "source": [
        "def greet(name):\n",
        "    return f\"Hello, {name}!\"\n",
        "\n",
        "print(greet(\"Tanuj\"))\n"
      ],
      "metadata": {
        "colab": {
          "base_uri": "https://localhost:8080/"
        },
        "id": "jZNahczRRw1B",
        "outputId": "27e330e0-13a7-4f2a-86ae-80fdc77b19a4"
      },
      "execution_count": null,
      "outputs": [
        {
          "output_type": "stream",
          "name": "stdout",
          "text": [
            "Hello, Tanuj!\n"
          ]
        }
      ]
    },
    {
      "cell_type": "markdown",
      "source": [
        "  4. class – Defining a Class"
      ],
      "metadata": {
        "id": "q-daENVGT_6e"
      }
    },
    {
      "cell_type": "code",
      "source": [
        "class Car:\n",
        "    def __init__(self):\n",
        "        self.acc = False\n",
        "        self.brk = False\n",
        "        self.clutch = False\n",
        "\n",
        "    def start(self):\n",
        "        self.clutch =True\n",
        "        self.acc =True\n",
        "        print(\"car started...\")\n",
        "\n",
        "\n",
        "car1 = Car()\n",
        "car1.start()"
      ],
      "metadata": {
        "colab": {
          "base_uri": "https://localhost:8080/"
        },
        "id": "lNELNLOHUDWe",
        "outputId": "acbb2ea0-d7a3-448d-bc86-ee94c67d7de4"
      },
      "execution_count": null,
      "outputs": [
        {
          "output_type": "stream",
          "name": "stdout",
          "text": [
            "car started...\n"
          ]
        }
      ]
    },
    {
      "cell_type": "markdown",
      "source": [
        "  5. try, except, finally – Exception Handling"
      ],
      "metadata": {
        "id": "vM3JkzQ7Uith"
      }
    },
    {
      "cell_type": "code",
      "source": [
        "try:\n",
        "    num = int(\"abc\")\n",
        "except ValueError:\n",
        "    print(\"Invalid input!\")\n",
        "finally:\n",
        "    print(\"Execution complete.\")"
      ],
      "metadata": {
        "id": "g8kCyYUuUIFj"
      },
      "execution_count": null,
      "outputs": []
    },
    {
      "cell_type": "markdown",
      "source": [
        " 6. import, as, from – Importing Modules"
      ],
      "metadata": {
        "id": "T24IkwdMUvEQ"
      }
    },
    {
      "cell_type": "code",
      "source": [
        "import math\n",
        "print(math.sqrt(16))\n",
        "\n",
        "from datetime import datetime as dt\n",
        "print(dt.now())"
      ],
      "metadata": {
        "id": "WMLB7zCsYntL"
      },
      "execution_count": null,
      "outputs": []
    },
    {
      "cell_type": "markdown",
      "source": [
        "**Question 4**\n",
        "Can keywords be used as variable names?\n",
        "\n",
        "-  Nope! You cannot use keywords as variable names in Python.\n",
        "\n",
        "- Keywords are reserved words that have a special meaning in Python's syntax. Using them as variable names would confuse the interpreter."
      ],
      "metadata": {
        "id": "9cA_zUzGbOAM"
      }
    },
    {
      "cell_type": "markdown",
      "source": [
        "**Question 3**\n",
        "What is Mutability in Python?\n",
        "\n",
        "Mutability refers to whether or not an object’s value can be changed after it's created.\n",
        "\n",
        "Immutability means that once an object is created, its value cannot be changed. If you want a new value, you must create a new object.\n",
        "\n",
        "\n",
        "  - Examples\n",
        "    \n",
        "    Mutable : list, dict, set, bytearray\n",
        "    \n",
        "    Immutable : int, float, str, tuple, bool, frozenset\n",
        "\n",
        "  - Memory Address (ID)\n",
        "  \n",
        "    Mutable : Remains the same after changes\n",
        "    \n",
        "    Immutable :  New object is created if value changes\n",
        "\n",
        "\n",
        "  - Use Case\n",
        "    Mutable : Useful for collections that need updates\n",
        "    \n",
        "    Immutable : Good for constant values and safe sharing\n",
        "\n",
        "\n",
        "\n",
        "  --> Why Does It Matter?\n",
        "  \n",
        "    *   Mutable objects can lead to unexpected behavior when passed into functions or reused.\n",
        "    *   Immutable objects are safer for concurrent or functional programming.\n",
        "\n",
        "\n",
        "\n"
      ],
      "metadata": {
        "id": "JI_J4jZgYhP-"
      }
    },
    {
      "cell_type": "markdown",
      "source": [
        "**Question 6**\n",
        "Why are lists mutable, but tuples are immutable?\n",
        "\n",
        "- It all comes down to design choices in Python — specifically how these data types are intended to be used and how they are stored in memory.\n",
        "\n",
        "Lists → Mutable\n",
        "\n",
        "*   Lists are designed for dynamic use — adding, removing, or changing elements.\n",
        "*   So Python allows in-place modification of list elements.\n",
        "\n"
      ],
      "metadata": {
        "id": "avHWshIZche4"
      }
    },
    {
      "cell_type": "code",
      "source": [
        "my_list = [1, 2, 3]\n",
        "my_list[0] = 100\n",
        "print(my_list)"
      ],
      "metadata": {
        "id": "J-kPhT4jc0X1"
      },
      "execution_count": null,
      "outputs": []
    },
    {
      "cell_type": "markdown",
      "source": [
        " Tuples → Immutable\n",
        "\n",
        "\n",
        "*   Tuples are designed to be fixed collections — useful for data integrity and hashable keys in dictionaries.\n",
        "*   Once a tuple is created, its structure and contents can't change.\n",
        "\n"
      ],
      "metadata": {
        "id": "17coa6ENc2cc"
      }
    },
    {
      "cell_type": "code",
      "source": [
        "my_tuple = (1, 2, 3)\n",
        "my_tuple[0] = 100  # ❌ Error: 'tuple' object does not support item assignment"
      ],
      "metadata": {
        "id": "vHuCmGhNdChN"
      },
      "execution_count": null,
      "outputs": []
    },
    {
      "cell_type": "markdown",
      "source": [
        "**Question 7**\n",
        "8 What is the difference between “==” and “is” operators in Python?\n",
        "\n",
        "🔁 == Operator (Equality):\n",
        "  *   Compares values of two objects.\n",
        "  *   Returns True if the contents are the same.\n",
        "  *   Objects can be stored in different memory locations."
      ],
      "metadata": {
        "id": "S_cwf82yditb"
      }
    },
    {
      "cell_type": "code",
      "source": [
        "[1, 2, 3] == [1, 2, 3]  # ✅ True"
      ],
      "metadata": {
        "id": "lV6y-8XCeSlk"
      },
      "execution_count": null,
      "outputs": []
    },
    {
      "cell_type": "markdown",
      "source": [
        "🔁 is Operator (Identity):\n",
        "\n",
        "  *   Compares memory addresses (object identity).\n",
        "  *   Returns True only if both variables point to the same object.\n",
        "  *   Even if the values are equal, is can return False if they are different objects.\n",
        "\n",
        "Key Differences:\n",
        "- == → \"Are they equal in value?\"\n",
        "- is → \"Are they the same exact object in memory?\""
      ],
      "metadata": {
        "id": "LqxQyXFEeUiT"
      }
    },
    {
      "cell_type": "markdown",
      "source": [
        "**Question 8**\n",
        "What are logical operators in Python?\n",
        "\n",
        "  -  Logical operators are used to combine multiple conditions and return a boolean result (True or False).\n",
        "  -  There are 3 main logical operators:\n",
        "    *   and\n",
        "        - Returns True if both conditions are true.\n",
        "        - Eg: (x > 5 and x < 10)\n",
        "    *   or\n",
        "        - Returns True if at least one condition is true\n",
        "        - Eg: (x < 5 or x > 15)\n",
        "    *   not\n",
        "        - Inverts the boolean value\n",
        "        - Eg: not(x > 5) → False if x > 5"
      ],
      "metadata": {
        "id": "NdYJ4nA1sPGS"
      }
    },
    {
      "cell_type": "markdown",
      "source": [
        "**Question 9**\n",
        "What is type casting in Python?\n",
        "\n",
        "  - Type casting (or type conversion) is the process of converting a value from one data type to another. This is useful when you're working with different types and need to ensure compatibility in operations.\n",
        "\n",
        "**Question 10**\n",
        "What is the difference between implicit and explicit type casting?\n",
        "\n",
        "  1. Implicit Type Casting\n",
        "      - Done automatically by Python\n",
        "      - Happens when combining different numeric types\n"
      ],
      "metadata": {
        "id": "LSi8h0aqvnFb"
      }
    },
    {
      "cell_type": "code",
      "source": [
        "a = 5\n",
        "b = 3.0\n",
        "\n",
        "result = a + b\n",
        "print(result)\n",
        "print(type(result))"
      ],
      "metadata": {
        "colab": {
          "base_uri": "https://localhost:8080/"
        },
        "id": "u3hEM7htwOnz",
        "outputId": "427a4d6a-58c1-4907-98a7-dc319a9b3683"
      },
      "execution_count": null,
      "outputs": [
        {
          "output_type": "stream",
          "name": "stdout",
          "text": [
            "8.0\n",
            "<class 'float'>\n"
          ]
        }
      ]
    },
    {
      "cell_type": "markdown",
      "source": [
        "    2. Explicit Type Casting\n",
        "        - Done manually by the programmer using built-in functions:\n",
        "            - int(), float(), str(), list(), tuple(), etc.\n",
        "          \n",
        "          Example 1: int() – Convert float or string to integer."
      ],
      "metadata": {
        "id": "SHNlRce6wWXy"
      }
    },
    {
      "cell_type": "code",
      "source": [
        "#Example 1: int() – Convert float or string to integer\n",
        "x = int(4.7)\n",
        "y = int(\"12\")\n",
        "\n",
        "\n",
        "# Example 2: float() – Convert int or string to float\n",
        "\n",
        "a = float(3)\n",
        "b = float(\"5.6\")\n",
        "\n",
        "\n",
        "#  Example 3: str() – Convert number to string\n",
        "\n",
        "num = 100\n",
        "text = str(num)\n",
        "print(text + \" is a number\")\n",
        "\n",
        "\n",
        "# Example 4: list() – Convert string or tuple to list\n",
        "\n",
        "s = \"PwSkills\"\n",
        "print(list(s))\n"
      ],
      "metadata": {
        "id": "h3dYQIHPwoqk"
      },
      "execution_count": null,
      "outputs": []
    },
    {
      "cell_type": "markdown",
      "source": [
        "**Question 6**\n",
        "What is the purpose of conditional statements in Python?\n",
        "\n",
        "  - Conditional statements allow you to execute different blocks of code based on whether a condition is True or False. They are essential for decision-making in programs.\n",
        "  - Purpose of Conditional Statements:\n",
        "    1. **Control the flow of execution:** They help decide what code to run based on conditions, making your program dynamic.\n",
        "\n",
        "    2. **Branching:** Your program can follow different paths depending on conditions, leading to more flexible and interactive code.\n",
        "\n",
        "    3. **Decision making:** They allow you to implement logic such as \"If this happens, do this; otherwise, do that.\"\n",
        "\n",
        "  1. if Statement :  \n",
        "  Executes a block of code if a condition is true."
      ],
      "metadata": {
        "id": "QgvxAhXaw0Fq"
      }
    },
    {
      "cell_type": "code",
      "source": [
        "age = 18\n",
        "if age >= 18:\n",
        "    print(\"You are eligible to vote.\")"
      ],
      "metadata": {
        "id": "hMtAZoZ0yJLT"
      },
      "execution_count": null,
      "outputs": []
    },
    {
      "cell_type": "markdown",
      "source": [
        "    2. if...else Statement :\n",
        "       Provides an alternative block if the condition is false."
      ],
      "metadata": {
        "id": "SySOdJZ5yOOa"
      }
    },
    {
      "cell_type": "code",
      "source": [
        "num = 7\n",
        "if num % 2 == 0:\n",
        "    print(\"Even number\")\n",
        "else:\n",
        "    print(\"Odd number\")"
      ],
      "metadata": {
        "id": "V-MBLxiSybUa"
      },
      "execution_count": null,
      "outputs": []
    },
    {
      "cell_type": "markdown",
      "source": [
        "  3. 3. if...elif...else: Statement :\n",
        "     Checks multiple conditions sequentially."
      ],
      "metadata": {
        "id": "Xb8kQaTWyncB"
      }
    },
    {
      "cell_type": "code",
      "source": [
        "score = int(input(\"Enter the marks : \"))\n",
        "\n",
        "if score >= 90:\n",
        "    print(\"Grade: A\")\n",
        "elif score >= 80:\n",
        "    print(\"Grade: B\")\n",
        "elif score >= 70:\n",
        "    print(\"Grade: C\")\n",
        "else:\n",
        "    print(\"Grade: F\")"
      ],
      "metadata": {
        "colab": {
          "base_uri": "https://localhost:8080/"
        },
        "id": "6cACYPqXy2Zi",
        "outputId": "5c061d9a-60f5-4d7a-a7ea-5ee21941ee5a"
      },
      "execution_count": null,
      "outputs": [
        {
          "output_type": "stream",
          "name": "stdout",
          "text": [
            "Enter the marks : 75\n",
            "Grade: C\n"
          ]
        }
      ]
    },
    {
      "cell_type": "markdown",
      "source": [
        "    - How does it work:\n",
        "      - Python evaluates conditions top-down.\n",
        "      - The first true condition executes its block.\n",
        "      - Once a match is found, the rest are skipped."
      ],
      "metadata": {
        "id": "nBksxciUzZoa"
      }
    },
    {
      "cell_type": "markdown",
      "source": [
        "**Question 12**\n",
        " How does the elif statement work?\n",
        "\n",
        " - The elif statement, short for \"else if\", is used to check multiple conditions in a sequence. It comes after an if statement and allows you to test additional conditions if the previous conditions are False.\n",
        " - Key Points:\n",
        "\n",
        "    1. Order matters: Python will evaluate conditions in the order they appear. Once a condition is True, it will execute that block and skip the remaining elif and else statements.\n",
        "\n",
        "    2. You can have multiple elif statements to check different conditions.\n",
        "\n",
        "    3. The else statement at the end is optional, and it’s executed if none of the previous conditions are true."
      ],
      "metadata": {
        "id": "EXSwetGUhDxD"
      }
    },
    {
      "cell_type": "code",
      "source": [
        "score = int(input(\"Enter the marks : \"))\n",
        "\n",
        "if score >= 90:\n",
        "    print(\"Grade: A\")\n",
        "elif score >= 80:\n",
        "    print(\"Grade: B\")\n",
        "elif score >= 70:\n",
        "    print(\"Grade: C\")\n",
        "else:\n",
        "    print(\"Grade: F\")"
      ],
      "metadata": {
        "id": "BzmD1sMThdlK"
      },
      "execution_count": null,
      "outputs": []
    },
    {
      "cell_type": "markdown",
      "source": [
        "**Question 13**\n",
        "What is the difference between for and while loops?\n",
        "\n",
        "  -   Loops in Python are used to execute a block of code repeatedly as long as a condition is met. There are two primary types of loops:\n",
        "\n",
        "   1. for Loop:\n",
        "      For Loop is used to iterate through a sequence like list, tuple or string [iterables]      "
      ],
      "metadata": {
        "id": "kXPTdIHQzz5R"
      }
    },
    {
      "cell_type": "code",
      "source": [
        "l = [5,7,9]\n",
        "for item in l:\n",
        "  print(item)"
      ],
      "metadata": {
        "colab": {
          "base_uri": "https://localhost:8080/"
        },
        "id": "3qW-TNuO1ISs",
        "outputId": "7ff67d9f-630b-4dea-a43d-0e242cefa3eb"
      },
      "execution_count": null,
      "outputs": [
        {
          "output_type": "stream",
          "name": "stdout",
          "text": [
            "5\n",
            "7\n",
            "9\n"
          ]
        }
      ]
    },
    {
      "cell_type": "markdown",
      "source": [
        "      2. while Loop:\n",
        "         In while loops, the condition is checked first. If it evaluates to true, the body of the Loop is excuted otherwise not.\n",
        "         If the loop is entered, the process of [condition check & execution] is continued until the condition becomes false.\n",
        "\n",
        "         Example :"
      ],
      "metadata": {
        "id": "6JAZSmvi1hs5"
      }
    },
    {
      "cell_type": "code",
      "source": [
        "i = 0\n",
        "while i<5:\n",
        "  print(\"Adam\")\n",
        "  i += 1"
      ],
      "metadata": {
        "colab": {
          "base_uri": "https://localhost:8080/"
        },
        "collapsed": true,
        "id": "ksgAW8Vy2qVU",
        "outputId": "ab102015-c7e7-4e9f-c406-66d7d8f09c23"
      },
      "execution_count": null,
      "outputs": [
        {
          "output_type": "stream",
          "name": "stdout",
          "text": [
            "Adam\n",
            "Adam\n",
            "Adam\n",
            "Adam\n",
            "Adam\n"
          ]
        }
      ]
    },
    {
      "cell_type": "markdown",
      "source": [
        "    - Loop Control Statements\n",
        "      - break Statment :\n",
        "        'break' is used to come out of the loop when encounterd. It instructs the program to Exist the Loop now.\n",
        "\n",
        "      - continue Statment :\n",
        "        'continue' is ued to stop the current iteration of the loop and continue with the next one. It instructs the program to \"skip the situation\".\n",
        "\n",
        "      - pass Statment :\n",
        "        pass is a null Statment in python. It instructs to \"Do nothing\"."
      ],
      "metadata": {
        "id": "lrn5eDMT3M1E"
      }
    },
    {
      "cell_type": "markdown",
      "source": [
        "**Question 14**\n",
        "Describe a scenario where a while loop is more suitable than a for loop.\n",
        "\n",
        "- While both while loops and for loops are useful, there are scenarios where a while loop is more suitable, especially when the number of iterations is not known in advance and depends on a condition that can change dynamically during the execution of the loop.\n",
        "- Imagine you want to keep asking a user to enter a valid password until they provide a password that meets certain criteria (e.g., minimum length, contains at least one special character). In this case, the number of attempts is not fixed, and you need to repeat the process until a condition is met.\n",
        "- Why is while better here?\n",
        "  *   The loop should continue until the user enters a valid password, but you don't know how many attempts it will take. The condition (whether the password is valid or not) drives the loop, so you use a while loop to keep checking this condition.\n",
        "\n",
        "- When would a for loop be more suitable?\n",
        "  *   Fixed number of iterations: When you know exactly how many times you need to loop, like iterating through a list of items or a range of numbers."
      ],
      "metadata": {
        "id": "XljE2bn-h8eb"
      }
    },
    {
      "cell_type": "markdown",
      "source": [
        "**Practical Questions**\n",
        "\n",
        "Q1: 8 Write a Python program to print \"Hello, World!\""
      ],
      "metadata": {
        "id": "nNd-qROCi9xT"
      }
    },
    {
      "cell_type": "code",
      "source": [
        "print(\"Hello, World!\")"
      ],
      "metadata": {
        "id": "3OrTAo57jMjy"
      },
      "execution_count": null,
      "outputs": []
    },
    {
      "cell_type": "markdown",
      "source": [
        "Q2: Write a Python program that displays your name and age."
      ],
      "metadata": {
        "id": "LePUnjmajR5B"
      }
    },
    {
      "cell_type": "code",
      "source": [
        "# Declare variables for name and age\n",
        "name = \"Tanuj\"\n",
        "age = 25  # Replace this with your actual age\n",
        "\n",
        "# Display the name and age\n",
        "print(\"Name:\", name)\n",
        "print(\"Age:\", age)"
      ],
      "metadata": {
        "id": "b0jD2kDrjalz"
      },
      "execution_count": null,
      "outputs": []
    },
    {
      "cell_type": "markdown",
      "source": [
        "Q3: Write code to print all the pre-defined keywords in Python using the keyword library."
      ],
      "metadata": {
        "id": "8sQfApDjjdVB"
      }
    },
    {
      "cell_type": "code",
      "source": [
        "# Import the keyword module\n",
        "import keyword\n",
        "\n",
        "# Get the list of all Python keywords\n",
        "keywords = keyword.kwlist\n",
        "\n",
        "# Print the list of keywords\n",
        "print(\"Python Keywords:\")\n",
        "print(keywords)"
      ],
      "metadata": {
        "id": "j-O6cbjOkWkC"
      },
      "execution_count": null,
      "outputs": []
    },
    {
      "cell_type": "markdown",
      "source": [
        "Q4: Write a program that checks if a given word is a Python keyword."
      ],
      "metadata": {
        "id": "P4FGIjjpk0-M"
      }
    },
    {
      "cell_type": "code",
      "source": [
        "import keyword\n",
        "\n",
        "# Input a word from the user\n",
        "word = input(\"Enter a word to check if it's a Python keyword: \")\n",
        "\n",
        "# Check if the word is a Python keyword\n",
        "if keyword.iskeyword(word):\n",
        "    print(f\"'{word}' is a Python keyword.\")\n",
        "else:\n",
        "    print(f\"'{word}' is not a Python keyword.\")"
      ],
      "metadata": {
        "id": "WuGGroTrlFmb"
      },
      "execution_count": null,
      "outputs": []
    },
    {
      "cell_type": "markdown",
      "source": [
        "Q5:  Create a list and tuple in Python, and demonstrate how attempting to change an element works differently\n",
        "for each."
      ],
      "metadata": {
        "id": "r3IsWJOklMWD"
      }
    },
    {
      "cell_type": "code",
      "source": [
        "# Creating a list\n",
        "my_list = [10, 20, 30, 40]\n",
        "\n",
        "# Creating a tuple\n",
        "my_tuple = (10, 20, 30, 40)\n",
        "\n",
        "\n",
        "print(\"Original List:\", my_list)\n",
        "my_list[1] = 50\n",
        "print(\"Updated List:\", my_list)\n",
        "\n",
        "\n",
        "print(\"\\nOriginal Tuple:\", my_tuple)\n",
        "\n",
        "try:\n",
        "    my_tuple[1] = 50  # Trying to change element at index 1\n",
        "except TypeError as e:\n",
        "    print(\"Error when trying to change tuple:\", e)"
      ],
      "metadata": {
        "colab": {
          "base_uri": "https://localhost:8080/"
        },
        "id": "tyclOQ8wlWQS",
        "outputId": "aa4c7ea7-9741-4564-878d-35da9131cfa9"
      },
      "execution_count": null,
      "outputs": [
        {
          "output_type": "stream",
          "name": "stdout",
          "text": [
            "Original List: [10, 20, 30, 40]\n",
            "Updated List: [10, 50, 30, 40]\n",
            "\n",
            "Original Tuple: (10, 20, 30, 40)\n",
            "Error when trying to change tuple: 'tuple' object does not support item assignment\n"
          ]
        }
      ]
    },
    {
      "cell_type": "markdown",
      "source": [
        "Q6: Write a function to demonstrate the behavior of mutable and immutable arguments."
      ],
      "metadata": {
        "id": "OH6J1j5_nXvD"
      }
    },
    {
      "cell_type": "code",
      "source": [
        "#Mutable Object Example - List:\n",
        "\n",
        "my_list = [1, 2, 3]\n",
        "print(id(my_list))\n",
        "\n",
        "my_list.append(4)\n",
        "print(my_list)\n",
        "print(id(my_list))\n",
        "\n",
        "#Immutable Object Example - String:\n",
        "\n",
        "my_str = \"Hello\"\n",
        "print(id(my_str))\n",
        "\n",
        "my_str += \" India\"\n",
        "print(my_str)\n",
        "print(id(my_str))"
      ],
      "metadata": {
        "id": "GyKU7iqcnnKi",
        "colab": {
          "base_uri": "https://localhost:8080/"
        },
        "outputId": "1394f4e9-d6a9-4d8c-c646-3857bc72b3e1"
      },
      "execution_count": null,
      "outputs": [
        {
          "output_type": "stream",
          "name": "stdout",
          "text": [
            "138634681347264\n",
            "[1, 2, 3, 4]\n",
            "138634681347264\n",
            "138634681455152\n",
            "Hello India\n",
            "138634690483376\n"
          ]
        }
      ]
    },
    {
      "cell_type": "markdown",
      "source": [
        "Q7: Write a program that performs basic arithmetic operations on two user-input numbers."
      ],
      "metadata": {
        "id": "jODc1BcXntmm"
      }
    },
    {
      "cell_type": "code",
      "source": [
        "# Taking input from the user\n",
        "num1 = float(input(\"Enter the first number: \"))\n",
        "num2 = float(input(\"Enter the second number: \"))\n",
        "\n",
        "# Performing basic arithmetic operations\n",
        "addition = num1 + num2\n",
        "subtraction = num1 - num2\n",
        "multiplication = num1 * num2\n",
        "# Checking if num2 is not zero to avoid division by zero\n",
        "if num2 != 0:\n",
        "    division = num1 / num2\n",
        "else:\n",
        "    division = \"undefined (cannot divide by zero)\"\n",
        "\n",
        "print(\"\\nArithmetic Operations:\")\n",
        "print(f\"Addition: {num1} + {num2} = {addition}\")\n",
        "print(f\"Subtraction: {num1} - {num2} = {subtraction}\")\n",
        "print(f\"Multiplication: {num1} * {num2} = {multiplication}\")\n",
        "print(f\"Division: {num1} / {num2} = {division}\")"
      ],
      "metadata": {
        "colab": {
          "base_uri": "https://localhost:8080/"
        },
        "id": "C8cJX0fkn46T",
        "outputId": "a7ea5a9d-38cf-4d78-ba63-d19eeb876e2b"
      },
      "execution_count": null,
      "outputs": [
        {
          "output_type": "stream",
          "name": "stdout",
          "text": [
            "Enter the first number: 15\n",
            "Enter the second number: 20\n",
            "\n",
            "Arithmetic Operations:\n",
            "Addition: 15.0 + 20.0 = 35.0\n",
            "Subtraction: 15.0 - 20.0 = -5.0\n",
            "Multiplication: 15.0 * 20.0 = 300.0\n",
            "Division: 15.0 / 20.0 = 0.75\n"
          ]
        }
      ]
    },
    {
      "cell_type": "markdown",
      "source": [
        "Q8:  Write a program to demonstrate the use of logical operators."
      ],
      "metadata": {
        "id": "PiEBHrX6oD0y"
      }
    },
    {
      "cell_type": "code",
      "source": [
        "age = int(input(\"Enter your age: \"))\n",
        "has_permission = input(\"Do you have permission to enter? (yes/no): \").lower()\n",
        "\n",
        "\n",
        "if age >= 18 and has_permission == 'yes':\n",
        "    print(\"You are allowed to enter.\")\n",
        "else:\n",
        "    print(\"You are not allowed to enter.\")\n",
        "\n",
        "\n",
        "if age >= 60 or has_permission == 'yes':\n",
        "    print(\"You qualify for a special discount.\")\n",
        "else:\n",
        "    print(\"You do not qualify for a special discount.\")\n",
        "\n",
        "\n",
        "if not has_permission == 'yes':\n",
        "    print(\"You do not have permission to enter.\")\n",
        "else:\n",
        "    print(\"You have permission to enter.\")"
      ],
      "metadata": {
        "colab": {
          "base_uri": "https://localhost:8080/"
        },
        "id": "CcX_-r-DoPKj",
        "outputId": "89f2d746-0775-4ab3-ca13-b473ebadf427"
      },
      "execution_count": null,
      "outputs": [
        {
          "output_type": "stream",
          "name": "stdout",
          "text": [
            "Enter your age: 25\n",
            "Do you have permission to enter? (yes/no): yes\n",
            "You are allowed to enter.\n",
            "You qualify for a special discount.\n",
            "You have permission to enter.\n"
          ]
        }
      ]
    },
    {
      "cell_type": "markdown",
      "source": [
        "Q9: Write a Python program to convert user input from string to integer, float, and boolean types."
      ],
      "metadata": {
        "id": "thmKSF0HoTkk"
      }
    },
    {
      "cell_type": "code",
      "source": [
        "# Taking input from the user (as a string)\n",
        "user_input = input(\"Enter a value: \")\n",
        "\n",
        "\n",
        "user_input = input(\"Enter a value: \")\n",
        "\n",
        "# Check for integer conversion\n",
        "if user_input.isdigit():\n",
        "    integer_value = int(user_input)\n",
        "    print(f\"Converted to integer: {integer_value}\")\n",
        "else:\n",
        "    print(\"Couldn't convert to integer.\")\n",
        "\n",
        "# Check for float conversion (including decimal numbers)\n",
        "if user_input.replace('.', '', 1).isdigit():\n",
        "    float_value = float(user_input)\n",
        "    print(f\"Converted to float: {float_value}\")\n",
        "else:\n",
        "    print(\"Couldn't convert to float.\")"
      ],
      "metadata": {
        "colab": {
          "base_uri": "https://localhost:8080/"
        },
        "id": "lg-mTeACpc1N",
        "outputId": "8918c68f-3345-4a53-aae1-6c004b3fa138"
      },
      "execution_count": null,
      "outputs": [
        {
          "output_type": "stream",
          "name": "stdout",
          "text": [
            "Enter a value: 15\n",
            "Enter a value: 26\n",
            "Converted to integer: 26\n",
            "Converted to float: 26.0\n"
          ]
        }
      ]
    },
    {
      "cell_type": "markdown",
      "source": [
        "Q10: Write code to demonstrate type casting with list elements."
      ],
      "metadata": {
        "id": "0-Ebs8Ulp5q0"
      }
    },
    {
      "cell_type": "code",
      "source": [
        "# Original list of strings\n",
        "str_list = [\"10\", \"20\", \"30\"]\n",
        "\n",
        "# Convert string elements to integers\n",
        "int_list = [int(item) for item in str_list]\n",
        "print(\"Integer list:\", int_list)\n",
        "\n",
        "# Convert string elements to floats\n",
        "float_list = [float(item) for item in str_list]\n",
        "print(\"Float list:\", float_list)\n",
        "\n",
        "# Convert string elements to booleans\n",
        "bool_list = [bool(item) for item in str_list]\n",
        "print(\"Boolean list:\", bool_list)"
      ],
      "metadata": {
        "id": "jsP99iexp5BB",
        "colab": {
          "base_uri": "https://localhost:8080/"
        },
        "outputId": "b11ca84c-f7e4-4368-f469-fd475f974c72"
      },
      "execution_count": null,
      "outputs": [
        {
          "output_type": "stream",
          "name": "stdout",
          "text": [
            "Integer list: [10, 20, 30]\n",
            "Float list: [10.0, 20.0, 30.0]\n",
            "Boolean list: [True, True, True]\n"
          ]
        }
      ]
    },
    {
      "cell_type": "markdown",
      "source": [
        "Q11: Write a program that checks if a number is positive, negative, or zero."
      ],
      "metadata": {
        "id": "QHg9JemqP70h"
      }
    },
    {
      "cell_type": "code",
      "source": [
        "# Get input from the user\n",
        "num = float(input(\"Enter a number: \"))\n",
        "\n",
        "# Check if the number is positive, negative, or zero\n",
        "if num > 0:\n",
        "    print(\"The number is positive.\")\n",
        "elif num < 0:\n",
        "    print(\"The number is negative.\")\n",
        "else:\n",
        "    print(\"The number is zero.\")"
      ],
      "metadata": {
        "colab": {
          "base_uri": "https://localhost:8080/"
        },
        "id": "_Tfa0UxuQQzV",
        "outputId": "d8ceae8a-ced9-4686-8e92-db6076f35ddc"
      },
      "execution_count": null,
      "outputs": [
        {
          "output_type": "stream",
          "name": "stdout",
          "text": [
            "Enter a number: -2.0\n",
            "The number is negative.\n"
          ]
        }
      ]
    },
    {
      "cell_type": "markdown",
      "source": [
        "Q12:  Write a for loop to print numbers from 1 to 10."
      ],
      "metadata": {
        "id": "tZUoVkB5Qmee"
      }
    },
    {
      "cell_type": "code",
      "source": [
        "for i in range(1, 11):\n",
        "  print(i)"
      ],
      "metadata": {
        "colab": {
          "base_uri": "https://localhost:8080/"
        },
        "id": "hnYA0ZfDQo0X",
        "outputId": "7c081463-b9ab-4d38-f207-0f656c1a493d"
      },
      "execution_count": null,
      "outputs": [
        {
          "output_type": "stream",
          "name": "stdout",
          "text": [
            "1\n",
            "2\n",
            "3\n",
            "4\n",
            "5\n",
            "6\n",
            "7\n",
            "8\n",
            "9\n",
            "10\n"
          ]
        }
      ]
    },
    {
      "cell_type": "markdown",
      "source": [
        "Q13: Write a Python program to find the sum of all even numbers between 1 and 50."
      ],
      "metadata": {
        "id": "Ds-nggYnQ_MP"
      }
    },
    {
      "cell_type": "code",
      "source": [
        "even_nos = 0\n",
        "\n",
        "for numbers in range(1, 51):\n",
        "  if numbers % 2 == 0:\n",
        "    even_nos += numbers\n",
        "\n",
        "print(f\"Sum of even numbers: {even_nos}\")"
      ],
      "metadata": {
        "colab": {
          "base_uri": "https://localhost:8080/"
        },
        "id": "vA24RZNARGGH",
        "outputId": "e655659a-d56f-4990-e360-f665aff63eb8"
      },
      "execution_count": null,
      "outputs": [
        {
          "output_type": "stream",
          "name": "stdout",
          "text": [
            "Sum of even numbers: 650\n"
          ]
        }
      ]
    },
    {
      "cell_type": "markdown",
      "source": [
        "Q14:  Write a program to reverse a string using a while loop."
      ],
      "metadata": {
        "id": "peCb-NyZSX_l"
      }
    },
    {
      "cell_type": "code",
      "source": [
        "word = input(\"enter the word: \")\n",
        "reversed_word = \"\"\n",
        "for char in word:\n",
        "    reversed_word = char + reversed_word\n",
        "print(\"reversed_string :\" , reversed_word)\n",
        "\n"
      ],
      "metadata": {
        "colab": {
          "base_uri": "https://localhost:8080/"
        },
        "id": "lwAlm22-Sbs_",
        "outputId": "c8bbc0b6-1c10-470b-dfd9-cb807947f6e5"
      },
      "execution_count": null,
      "outputs": [
        {
          "output_type": "stream",
          "name": "stdout",
          "text": [
            "enter the word: Pw Skills\n",
            "reversed_string : sllikS wP\n"
          ]
        }
      ]
    },
    {
      "cell_type": "markdown",
      "source": [
        "Q15: Write a Python program to calculate the factorial of a number provided by the user using a while loop."
      ],
      "metadata": {
        "id": "gpZxofQTUoe9"
      }
    },
    {
      "cell_type": "code",
      "source": [
        "f = int(input(\"Enter the no : \"))\n",
        "\n",
        "fac = 1\n",
        "i = 1\n",
        "while i <= f:\n",
        "    fac*=i\n",
        "    i += 1\n",
        "print(\"factorial : \", fac)\n",
        "\n"
      ],
      "metadata": {
        "colab": {
          "base_uri": "https://localhost:8080/"
        },
        "id": "zye4s54wUq1N",
        "outputId": "cc8a8c76-0aa7-46f7-b549-aad4e8e542d6"
      },
      "execution_count": null,
      "outputs": [
        {
          "output_type": "stream",
          "name": "stdout",
          "text": [
            "Enter the no : 6\n",
            "factorial :  720\n"
          ]
        }
      ]
    }
  ]
}